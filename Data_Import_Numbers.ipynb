{
 "cells": [
  {
   "cell_type": "code",
   "execution_count": 1,
   "metadata": {},
   "outputs": [],
   "source": [
    "import numpy as np\n",
    "import matplotlib.pyplot as plt\n",
    "import os\n",
    "import cv2\n",
    "from tqdm import tqdm\n",
    "import pickle\n",
    "import random"
   ]
  },
  {
   "cell_type": "code",
   "execution_count": 2,
   "metadata": {},
   "outputs": [
    {
     "name": "stderr",
     "output_type": "stream",
     "text": [
      "100%|██████████████████████████████████████████████████████████████████████████████| 106/106 [00:00<00:00, 1150.30it/s]\n",
      "100%|██████████████████████████████████████████████████████████████████████████████| 118/118 [00:00<00:00, 1527.82it/s]\n",
      "100%|██████████████████████████████████████████████████████████████████████████████| 106/106 [00:00<00:00, 1362.20it/s]\n",
      "100%|██████████████████████████████████████████████████████████████████████████████| 106/106 [00:00<00:00, 1459.40it/s]\n",
      "100%|██████████████████████████████████████████████████████████████████████████████| 108/108 [00:00<00:00, 1391.56it/s]\n",
      "100%|██████████████████████████████████████████████████████████████████████████████| 109/109 [00:00<00:00, 1185.85it/s]\n",
      "100%|██████████████████████████████████████████████████████████████████████████████| 112/112 [00:00<00:00, 1481.84it/s]\n",
      "100%|██████████████████████████████████████████████████████████████████████████████| 103/103 [00:00<00:00, 1405.73it/s]\n",
      "100%|██████████████████████████████████████████████████████████████████████████████| 106/106 [00:00<00:00, 1372.93it/s]\n",
      "100%|██████████████████████████████████████████████████████████████████████████████| 101/101 [00:00<00:00, 1510.21it/s]"
     ]
    },
    {
     "name": "stdout",
     "output_type": "stream",
     "text": [
      "1075\n"
     ]
    },
    {
     "name": "stderr",
     "output_type": "stream",
     "text": [
      "\n"
     ]
    }
   ],
   "source": [
    "DATADIR = \"C:/Users/Cheesecake/python/BanglaHandSign/Dataset/Numbers\"\n",
    "CATEGORIES = [\"0\", \"1\", \"2\", \"3\", \"4\", \"5\", \"6\", \"7\", \"8\", \"9\"]\n",
    "\n",
    "training_data = []\n",
    "IMG_SIZE = 128\n",
    "    \n",
    "def create_training_data():\n",
    "    for category in CATEGORIES:\n",
    "        path = os.path.join(DATADIR,category)         # create path\n",
    "        \n",
    "        class_num = CATEGORIES.index(category)        # get the classification\n",
    "\n",
    "        for img in tqdm(os.listdir(path)):            # iterate over each image\n",
    "            try:\n",
    "                img_array = cv2.imread(os.path.join(path,img), cv2.IMREAD_GRAYSCALE)  # convert to array\n",
    "                new_array = cv2.resize(img_array, (IMG_SIZE, IMG_SIZE))               # resize to normalize data size\n",
    "                training_data.append([new_array, class_num])  # add this to our training_data\n",
    "            except Exception as e:                            # in the interest in keeping the output clean...\n",
    "                pass\n",
    "\n",
    "create_training_data()\n",
    "\n",
    "print(len(training_data))\n",
    "\n",
    "random.shuffle(training_data)"
   ]
  },
  {
   "cell_type": "code",
   "execution_count": 3,
   "metadata": {},
   "outputs": [
    {
     "name": "stdout",
     "output_type": "stream",
     "text": [
      "0\n",
      "0\n",
      "0\n",
      "7\n",
      "4\n",
      "5\n",
      "8\n",
      "1\n",
      "4\n",
      "3\n"
     ]
    }
   ],
   "source": [
    "for sample in training_data[:10]:\n",
    "     print(sample[1])\n",
    "    \n",
    "X = []\n",
    "y = []\n",
    "\n",
    "for features,label in training_data:\n",
    "    X.append(features)\n",
    "    y.append(label)\n",
    "    \n",
    "\n",
    "#print(X[0].reshape(-1, IMG_SIZE, IMG_SIZE, 1))\n",
    "\n",
    "X = np.array(X).reshape(-1, IMG_SIZE, IMG_SIZE, 1)\n",
    "\n",
    "pickle_out = open(\"X_num.pickle\",\"wb\")\n",
    "pickle.dump(X, pickle_out)\n",
    "pickle_out.close()\n",
    "\n",
    "pickle_out = open(\"y_num.pickle\",\"wb\")\n",
    "pickle.dump(y, pickle_out)\n",
    "pickle_out.close()"
   ]
  },
  {
   "cell_type": "code",
   "execution_count": null,
   "metadata": {},
   "outputs": [],
   "source": []
  }
 ],
 "metadata": {
  "kernelspec": {
   "display_name": "Python 3",
   "language": "python",
   "name": "python3"
  },
  "language_info": {
   "codemirror_mode": {
    "name": "ipython",
    "version": 3
   },
   "file_extension": ".py",
   "mimetype": "text/x-python",
   "name": "python",
   "nbconvert_exporter": "python",
   "pygments_lexer": "ipython3",
   "version": "3.7.9"
  }
 },
 "nbformat": 4,
 "nbformat_minor": 4
}
